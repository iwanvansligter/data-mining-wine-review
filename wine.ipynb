{
 "cells": [
  {
   "cell_type": "code",
   "execution_count": 6,
   "id": "3a118b14",
   "metadata": {},
   "outputs": [
    {
     "name": "stderr",
     "output_type": "stream",
     "text": [
      "/usr/local/python/3.12.1/lib/python3.12/site-packages/gdown/parse_url.py:48: UserWarning: You specified a Google Drive link that is not the correct link to download a file. You might want to try `--fuzzy` option or the following url: https://drive.google.com/uc?id=1oqVo-gDbqwy8uB6GHsnvGiwOfoTJe9VX\n",
      "  warnings.warn(\n",
      "Downloading...\n",
      "From: https://drive.google.com/file/d/1oqVo-gDbqwy8uB6GHsnvGiwOfoTJe9VX/view?usp=sharing\n",
      "To: /workspaces/data-mining-2025/groot_bestand.csv\n",
      "48.0kB [00:00, 26.7MB/s]\n"
     ]
    },
    {
     "data": {
      "text/plain": [
       "'groot_bestand.csv'"
      ]
     },
     "execution_count": 6,
     "metadata": {},
     "output_type": "execute_result"
    }
   ],
   "source": [
    "\n",
    "import gdown\n",
    "\n",
    "# Vervang FILE_ID met jouw bestand-ID\n",
    "url = \"https://drive.google.com/file/d/1oqVo-gDbqwy8uB6GHsnvGiwOfoTJe9VX/view?usp=sharing\"\n",
    "output = \"groot_bestand.csv\"\n",
    "\n",
    "gdown.download(url, output, quiet=False)\n",
    "\n"
   ]
  }
 ],
 "metadata": {
  "kernelspec": {
   "display_name": "Python 3",
   "language": "python",
   "name": "python3"
  },
  "language_info": {
   "codemirror_mode": {
    "name": "ipython",
    "version": 3
   },
   "file_extension": ".py",
   "mimetype": "text/x-python",
   "name": "python",
   "nbconvert_exporter": "python",
   "pygments_lexer": "ipython3",
   "version": "3.12.1"
  }
 },
 "nbformat": 4,
 "nbformat_minor": 5
}
